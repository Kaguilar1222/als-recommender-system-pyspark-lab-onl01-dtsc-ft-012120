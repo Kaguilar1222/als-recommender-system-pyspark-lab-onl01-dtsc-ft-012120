{
 "cells": [
  {
   "cell_type": "markdown",
   "metadata": {},
   "source": [
    "# Building a Recommendation System in PySpark - Lab\n",
    "\n",
    "## Introduction\n",
    "\n",
    "In this lab, we will implement a movie recommendation system using ALS in Spark programming environment. Spark's machine learning library `ml` comes packaged with a very efficient implementation of the ALS algorithm that we looked at in the previous lesson. The lab will require you to put into practice your Spark programming skills for creating and manipulating PySpark DataFrames. We will go through a step-by-step process into developing a movie recommendation system using ALS and PySpark using the `MovieLens` dataset that we used in a previous lab.\n",
    "\n",
    "Note: You are advised to refer to [PySpark documentation](http://spark.apache.org/docs/2.2.0/api/python/index.html) heavily for completing this lab as it will introduce a few new methods. \n",
    "\n",
    "\n",
    "## Objectives\n",
    "\n",
    "In this lab you will: \n",
    "\n",
    "- Use Spark to train and cross-validate an ALS model \n",
    "- Introduce a new user with rating to a rating matrix and make recommendations for them \n",
    "- Create a function that will return the top n recommendations for a user "
   ]
  },
  {
   "cell_type": "markdown",
   "metadata": {},
   "source": [
    "## Building a Recommendation System\n",
    "\n",
    "We have seen how recommendation systems have played an integral part in the success of Amazon (books, items), Pandora/Spotify (music), Google (news, search), YouTube (videos) etc.  For Amazon, these systems bring more than 30% of their total revenue. For Netflix, 75% of movies that people watch are based on some sort of recommendation.\n",
    "\n",
    "> The goal of recommendation systems is to find what is likely to be of interest to the user. This enables organizations to offer a high level of personalization and customer tailored services.\n",
    "\n",
    "\n",
    "For online video content services like Netflix and Hulu, the need to build robust movie recommendation systems is extremely important. An example of a recommendation system is such as this:\n",
    "\n",
    "1.    User A watches Game of Thrones and Breaking Bad \n",
    "2.    User B performs a search query for Game of Thrones \n",
    "3.    The system suggests Breaking Bad to user B from data collected about user A \n",
    "\n",
    "\n",
    "This lab will guide you through a step-by-step process into developing such a movie recommendation system. We will use the `MovieLens` dataset to build a movie recommendation system using the collaborative filtering technique with Spark's Alternating Least Squares implementation. After building that recommendation system, we will go through the process of adding a new user to the dataset with some new ratings and obtaining new recommendations for that user.\n",
    "\n",
    "### Importing the Data\n",
    "\n",
    "* Initialize a `SparkSession` object\n",
    "* Import the dataset found at `'./data/ratings.csv'` into a PySpark DataFrame"
   ]
  },
  {
   "cell_type": "code",
   "execution_count": 1,
   "metadata": {},
   "outputs": [],
   "source": [
    "# import necessary libraries\n",
    "from pyspark import SparkContext\n",
    "from pyspark.sql import SparkSession\n",
    "sc = SparkContext('local[*]')\n",
    "\n",
    "# instantiate SparkSession object\n",
    "spark = SparkSession.builder.master(\"local\").getOrCreate()"
   ]
  },
  {
   "cell_type": "code",
   "execution_count": 2,
   "metadata": {},
   "outputs": [],
   "source": [
    "# read in the dataset into pyspark DataFrame\n",
    "movie_ratings = spark.read.csv('./data/ratings.csv', header='true', inferSchema='true')"
   ]
  },
  {
   "cell_type": "code",
   "execution_count": 5,
   "metadata": {},
   "outputs": [
    {
     "data": {
      "text/plain": [
       "Row(userId=1, movieId=1, rating=4.0, timestamp=964982703)"
      ]
     },
     "execution_count": 5,
     "metadata": {},
     "output_type": "execute_result"
    }
   ],
   "source": [
    "movie_ratings.head()"
   ]
  },
  {
   "cell_type": "code",
   "execution_count": 6,
   "metadata": {},
   "outputs": [
    {
     "name": "stdout",
     "output_type": "stream",
     "text": [
      "+------+-------+------+---------+\n",
      "|userId|movieId|rating|timestamp|\n",
      "+------+-------+------+---------+\n",
      "|     1|      1|   4.0|964982703|\n",
      "|     1|      3|   4.0|964981247|\n",
      "|     1|      6|   4.0|964982224|\n",
      "|     1|     47|   5.0|964983815|\n",
      "|     1|     50|   5.0|964982931|\n",
      "|     1|     70|   3.0|964982400|\n",
      "|     1|    101|   5.0|964980868|\n",
      "|     1|    110|   4.0|964982176|\n",
      "|     1|    151|   5.0|964984041|\n",
      "|     1|    157|   5.0|964984100|\n",
      "|     1|    163|   5.0|964983650|\n",
      "|     1|    216|   5.0|964981208|\n",
      "|     1|    223|   3.0|964980985|\n",
      "|     1|    231|   5.0|964981179|\n",
      "|     1|    235|   4.0|964980908|\n",
      "|     1|    260|   5.0|964981680|\n",
      "|     1|    296|   3.0|964982967|\n",
      "|     1|    316|   3.0|964982310|\n",
      "|     1|    333|   5.0|964981179|\n",
      "|     1|    349|   4.0|964982563|\n",
      "+------+-------+------+---------+\n",
      "only showing top 20 rows\n",
      "\n"
     ]
    }
   ],
   "source": [
    "movie_ratings.show()"
   ]
  },
  {
   "cell_type": "markdown",
   "metadata": {},
   "source": [
    "Check the data types of each of the columns to ensure that they are a type that makes sense given the column."
   ]
  },
  {
   "cell_type": "code",
   "execution_count": 4,
   "metadata": {},
   "outputs": [
    {
     "data": {
      "text/plain": [
       "[('userId', 'int'),\n",
       " ('movieId', 'int'),\n",
       " ('rating', 'double'),\n",
       " ('timestamp', 'int')]"
      ]
     },
     "execution_count": 4,
     "metadata": {},
     "output_type": "execute_result"
    }
   ],
   "source": [
    "movie_ratings.dtypes"
   ]
  },
  {
   "cell_type": "markdown",
   "metadata": {},
   "source": [
    "We aren't going to need the timestamp, so we can go ahead and remove that column."
   ]
  },
  {
   "cell_type": "code",
   "execution_count": 7,
   "metadata": {},
   "outputs": [],
   "source": [
    "movie_ratings = movie_ratings.drop('timestamp')"
   ]
  },
  {
   "cell_type": "code",
   "execution_count": 8,
   "metadata": {},
   "outputs": [
    {
     "data": {
      "text/plain": [
       "[('userId', 'int'), ('movieId', 'int'), ('rating', 'double')]"
      ]
     },
     "execution_count": 8,
     "metadata": {},
     "output_type": "execute_result"
    }
   ],
   "source": [
    "movie_ratings.dtypes"
   ]
  },
  {
   "cell_type": "markdown",
   "metadata": {},
   "source": [
    "### Fitting the Alternating Least Squares Model"
   ]
  },
  {
   "cell_type": "markdown",
   "metadata": {},
   "source": [
    "Because this dataset is already preprocessed for us, we can go ahead and fit the Alternating Least Squares model.\n",
    "\n",
    "* Import `ALS` from `pyspark.ml.recommendation` module \n",
    "* Use the `.randomSplit()` method on the pyspark DataFrame to separate the dataset into training and test sets\n",
    "* Fit the Alternating Least Squares Model to the training dataset. Make sure to set the `userCol`, `itemCol`, and `ratingCol` to the appropriate columns given this dataset. Then fit the data to the training set and assign it to a variable model  "
   ]
  },
  {
   "cell_type": "code",
   "execution_count": 10,
   "metadata": {},
   "outputs": [],
   "source": [
    "from pyspark.ml.evaluation import RegressionEvaluator\n",
    "\n",
    "from pyspark.ml.recommendation import ALS \n",
    "\n",
    "# split into training and testing sets\n",
    "train_set, test_set = movie_ratings.randomSplit([.75, .25], 42)\n",
    "\n",
    "\n",
    "# Build the recommendation model using ALS on the training data\n",
    "als = ALS(rank=10, maxIter=10, seed=10, coldStartStrategy='drop', userCol='userId',itemCol='movieId',ratingCol='rating')\n",
    "\n",
    "# Note we set cold start strategy to 'drop' to ensure we don't get NaN evaluation metrics\n",
    "\n",
    "# fit the ALS model to the training set\n",
    "model = als.fit(train_set)"
   ]
  },
  {
   "cell_type": "markdown",
   "metadata": {},
   "source": [
    "Now you've fit the model, and it's time to evaluate it to determine just how well it performed.\n",
    "\n",
    "* Import `RegressionEvalutor` from `pyspark.ml.evaluation` \n",
    "* Generate predictions with your model for the test set by using the `.transform()` method on your ALS model \n",
    "* Evaluate your model and print out the RMSE from your test set "
   ]
  },
  {
   "cell_type": "code",
   "execution_count": 11,
   "metadata": {},
   "outputs": [
    {
     "name": "stdout",
     "output_type": "stream",
     "text": [
      "RMSE:0.8886069652873526\n",
      "+------+-------+------+----------+\n",
      "|userId|movieId|rating|prediction|\n",
      "+------+-------+------+----------+\n",
      "|   133|    471|   4.0| 2.4821155|\n",
      "|   599|    471|   2.5| 2.3515217|\n",
      "|    57|    471|   3.0|  3.430345|\n",
      "|   387|    471|   3.0|  2.523963|\n",
      "|   520|    471|   5.0| 3.1948173|\n",
      "|   287|    471|   4.5| 2.2963357|\n",
      "|   469|    471|   5.0| 3.0840282|\n",
      "|   414|    471|   5.0| 3.3900456|\n",
      "|   426|    471|   5.0| 3.8383765|\n",
      "|   260|    471|   4.5| 3.2552738|\n",
      "|   373|    471|   5.0| 2.6917953|\n",
      "|   357|    471|   3.5| 3.5724998|\n",
      "|   492|    833|   4.0|   2.56206|\n",
      "|   463|   1088|   3.5|  2.814049|\n",
      "|   554|   1088|   5.0| 3.4948392|\n",
      "|    41|   1088|   1.5| 2.6985478|\n",
      "|   594|   1088|   4.5|  4.087136|\n",
      "|   391|   1088|   1.0| 3.2910032|\n",
      "|    10|   1088|   3.0| 3.7525978|\n",
      "|   414|   1088|   3.0|  2.974368|\n",
      "+------+-------+------+----------+\n",
      "only showing top 20 rows\n",
      "\n"
     ]
    }
   ],
   "source": [
    "# importing appropriate library\n",
    "from pyspark.ml.evaluation import RegressionEvaluator\n",
    "\n",
    "evaluator = RegressionEvaluator(metricName='rmse',labelCol='rating',predictionCol='prediction')\n",
    "\n",
    "predictions = model.transform(test_set)\n",
    "\n",
    "# Evaluate the model by computing the RMSE on the test data\n",
    "rmse = evaluator.evaluate(predictions)\n",
    "\n",
    "print('RMSE:'+str(rmse))\n",
    "\n",
    "predictions.show()"
   ]
  },
  {
   "cell_type": "markdown",
   "metadata": {},
   "source": [
    "### Cross-validation to Find the Optimal Model\n",
    "\n",
    "Let's now find the optimal values for the parameters of the ALS model. Use the built-in `CrossValidator` in PySpark with a suitable param grid and determine the optimal model. Try with the parameters:\n",
    "\n",
    "* regularization = [0.01, 0.001, 0.1]\n",
    "* rank = [4, 10, 50]\n"
   ]
  },
  {
   "cell_type": "code",
   "execution_count": 25,
   "metadata": {},
   "outputs": [],
   "source": [
    "from pyspark.ml.tuning import CrossValidator, ParamGridBuilder\n",
    "\n",
    "# initialize the ALS model\n",
    "als = ALS(maxIter=10, seed=10, coldStartStrategy='drop', userCol='userId',itemCol='movieId',ratingCol='rating')\n",
    "\n",
    "\n",
    "# create the parameter grid              \n",
    "grid = ParamGridBuilder().\\\n",
    "    addGrid(als.regParam, [0.01, 0.001, 0.1]).\\\n",
    "    addGrid(als.rank, [4, 10, 50]).\\\n",
    "    build()\n",
    "\n",
    "# instantiating crossvalidator estimator\n",
    "cv = CrossValidator(estimator=als, estimatorParamMaps=grid, evaluator=evaluator,parallelism=4)\n",
    "\n",
    "# We see the best model has a rank of 50, so we will use that in our future models with this dataset\n",
    "cvModel = cv.fit(train_set)"
   ]
  },
  {
   "cell_type": "code",
   "execution_count": 26,
   "metadata": {},
   "outputs": [
    {
     "name": "stdout",
     "output_type": "stream",
     "text": [
      "4\n"
     ]
    }
   ],
   "source": [
    "print(cvModel.bestModel.rank)"
   ]
  },
  {
   "cell_type": "markdown",
   "metadata": {},
   "source": [
    "### Incorporating the names of the movies\n",
    "\n",
    "When we make recommendations, it would be ideal if we could have the actual name of the movie used rather than just an ID. There is another file called `'./data/movies.csv'` that contains all of the names of the movies matched up to the `movie_id` that we have in the ratings dataset.\n",
    "\n",
    "* Import the data into a Spark DataFrame \n",
    "* Look at the first 5 rows"
   ]
  },
  {
   "cell_type": "code",
   "execution_count": 32,
   "metadata": {},
   "outputs": [
    {
     "data": {
      "text/plain": [
       "[Row(movieId=1, title='Toy Story (1995)', genres='Adventure|Animation|Children|Comedy|Fantasy'),\n",
       " Row(movieId=2, title='Jumanji (1995)', genres='Adventure|Children|Fantasy'),\n",
       " Row(movieId=3, title='Grumpier Old Men (1995)', genres='Comedy|Romance'),\n",
       " Row(movieId=4, title='Waiting to Exhale (1995)', genres='Comedy|Drama|Romance'),\n",
       " Row(movieId=5, title='Father of the Bride Part II (1995)', genres='Comedy')]"
      ]
     },
     "execution_count": 32,
     "metadata": {},
     "output_type": "execute_result"
    }
   ],
   "source": [
    "movie_titles = spark.read.csv('./data/movies.csv', header='true', inferSchema='true')\n",
    "\n",
    "movie_titles.head(5)"
   ]
  },
  {
   "cell_type": "markdown",
   "metadata": {},
   "source": [
    "We will eventually be matching up the movie ids with the movie titles. In the cell below, create a function `name_retriever()` that takes in a `movie_id` and returns a string that represents the movie title. \n",
    "\n",
    "> Hint: It's possible to do this operation in one line with the `df.where()` or the `df.filter()` methods "
   ]
  },
  {
   "cell_type": "code",
   "execution_count": 35,
   "metadata": {},
   "outputs": [],
   "source": [
    "def name_retriever(movie_id, movie_title_df):\n",
    "    return movie_title_df.where(movie_title_df.movieId == movie_id).take(1)[0]['title']"
   ]
  },
  {
   "cell_type": "code",
   "execution_count": 36,
   "metadata": {},
   "outputs": [
    {
     "name": "stdout",
     "output_type": "stream",
     "text": [
      "Winnie the Pooh and the Blustery Day (1968)\n"
     ]
    }
   ],
   "source": [
    "print(name_retriever(1023, movie_titles))"
   ]
  },
  {
   "cell_type": "markdown",
   "metadata": {},
   "source": [
    "## Getting Recommendations\n",
    "\n",
    "Now it's time to actually get some recommendations! The ALS model has built-in methods called `.recommendForUserSubset()` and `.recommendForAllUsers()`. We'll start off with using a subset of users. "
   ]
  },
  {
   "cell_type": "code",
   "execution_count": 40,
   "metadata": {},
   "outputs": [],
   "source": [
    "users = movie_ratings.select(als.getUserCol()).distinct().limit(1)\n",
    "userSubsetRecs = model.recommendForUserSubset(users, 10)\n",
    "recs = userSubsetRecs.take(1)"
   ]
  },
  {
   "cell_type": "markdown",
   "metadata": {},
   "source": [
    "We can now see we have a list of rows with recommended items. Now try and get the name of the top recommended movie by way of the function you just created, using number one item for this user."
   ]
  },
  {
   "cell_type": "code",
   "execution_count": 41,
   "metadata": {},
   "outputs": [
    {
     "data": {
      "text/plain": [
       "'Isle of Dogs (2018)'"
      ]
     },
     "execution_count": 41,
     "metadata": {},
     "output_type": "execute_result"
    }
   ],
   "source": [
    "# use indexing to obtain the movie id of top predicted rated item\n",
    "first_recommendation = recs[0]['recommendations'][0][0]\n",
    "\n",
    "# use the name retriever function to get the values\n",
    "name_retriever(first_recommendation,movie_titles)"
   ]
  },
  {
   "cell_type": "markdown",
   "metadata": {},
   "source": [
    "Of course, you can also make recommendations for everyone, although this will take longer. In the next line, we are creating an RDD with the top 5 recommendations for every user and then selecting one user to find out his predictions:"
   ]
  },
  {
   "cell_type": "code",
   "execution_count": 42,
   "metadata": {},
   "outputs": [
    {
     "data": {
      "text/plain": [
       "[Row(userId=3, recommendations=[Row(movieId=26865, rating=5.433000087738037), Row(movieId=70946, rating=5.055278301239014), Row(movieId=4821, rating=5.0239152908325195), Row(movieId=6835, rating=4.915711879730225), Row(movieId=33834, rating=4.878615856170654)])]"
      ]
     },
     "execution_count": 42,
     "metadata": {},
     "output_type": "execute_result"
    }
   ],
   "source": [
    "recommendations = model.recommendForAllUsers(5)\n",
    "recommendations.where(recommendations.userId == 3).collect()"
   ]
  },
  {
   "cell_type": "markdown",
   "metadata": {},
   "source": [
    "### Getting Predictions for a New User\n",
    "\n",
    "Now, it's time to put together all that you've learned in this section to create a function that will take in a new user and some movies they've rated and then return $n$ number of highest recommended movies. This function will have multiple different steps to it:\n",
    "\n",
    "* Adding the new ratings into the DataFrame (hint: look into using the `.union()` method) \n",
    "* Fitting the ALS model  \n",
    "* Make recommendations for the user of choice \n",
    "* Print out the names of the top $n$ recommendations in a reader-friendly manner \n",
    "\n",
    "The function should take in the parameters: \n",
    "\n",
    "* `user_id` : int \n",
    "* `new_ratings` : list of tuples in the format (user_id, item_id, rating)\n",
    "* `rating_df` : spark DF containing ratings\n",
    "* `movie_title_df` : spark DF containing movie titles\n",
    "* `num_recs` : int"
   ]
  },
  {
   "cell_type": "markdown",
   "metadata": {},
   "source": [
    "Rate new movies\n",
    "\n",
    "```python\n",
    "[Row(movieId=3253, title='Wayne's World (1992)', genres='Comedy'),\n",
    " Row(movieId=2459, title='Texas Chainsaw Massacre, The (1974)', genres='Horror'),\n",
    " Row(movieId=2513, title='Pet Sematary (1989)', genres='Horror'),\n",
    " Row(movieId=6502, title='28 Days Later (2002)', genres='Action|Horror|Sci-Fi'),\n",
    " Row(movieId=1091, title='Weekend at Bernie's (1989)', genres='Comedy'),\n",
    "Row(movieId=441, title='Dazed and Confused (1993)', genres='Comedy'),\n",
    "Row(movieId=370, title='Naked Gun 33 1/3: The Final Insult (1994)', genres='Action|Comedy')]\n",
    "\n",
    "```"
   ]
  },
  {
   "cell_type": "code",
   "execution_count": 60,
   "metadata": {},
   "outputs": [],
   "source": [
    "def new_user_recs(user_id, new_ratings, rating_df, movie_title_df, num_recs):\n",
    "    # turn the new_recommendations list into a spark DataFrame\n",
    "    new_spark = spark.createDataFrame(new_ratings,rating_df.columns)\n",
    "    \n",
    "    # combine the new ratings df with the rating_df\n",
    "    final_df = new_spark.union(rating_df)\n",
    "    \n",
    "    # create an ALS model and fit it\n",
    "    als = ALS(rank=4, maxIter=10, seed=10, coldStartStrategy='drop', userCol='userId',itemCol='movieId',ratingCol='rating')\n",
    "    model = als.fit(final_df)\n",
    "    \n",
    "    # make recommendations for all users using the recommendForAllUsers method\n",
    "    recommendations = model.recommendForAllUsers(num_recs)\n",
    "    \n",
    "    # get recommendations specifically for the new user that has been added to the DataFrame\n",
    "    user_recs = recommendations.where(recommendations.userId == user_id).collect()\n",
    "    for ranking, (movie_id, rating) in enumerate(user_recs[0]['recommendations']):\n",
    "        movie_name = name_retriever(movie_id, movie_title_df)\n",
    "        print(f'Ranking: {ranking + 1}, Movie Name: {movie_name}, Predicted Rating: {rating}')"
   ]
  },
  {
   "cell_type": "code",
   "execution_count": 61,
   "metadata": {
    "scrolled": false
   },
   "outputs": [],
   "source": [
    "user_id = 122291\n",
    "user_ratings_1 = [(user_id,3253,5),\n",
    "                  (user_id,2459,1),\n",
    "                  (user_id,2513,1),\n",
    "                  (user_id,6502,3),\n",
    "                  (user_id,1091,5),\n",
    "                  (user_id,441,4),\n",
    "                  (user_id,370,4)]"
   ]
  },
  {
   "cell_type": "code",
   "execution_count": 62,
   "metadata": {},
   "outputs": [
    {
     "name": "stdout",
     "output_type": "stream",
     "text": [
      "Ranking: 1, Movie Name: Ivan's Childhood (a.k.a. My Name is Ivan) (Ivanovo detstvo) (1962), Predicted Rating: 7.65479850769043\n",
      "Ranking: 2, Movie Name: A Quiet Place (2018), Predicted Rating: 7.426545143127441\n",
      "Ranking: 3, Movie Name: Submarine (2010), Predicted Rating: 7.250728607177734\n",
      "Ranking: 4, Movie Name: Minnie and Moskowitz (1971), Predicted Rating: 7.084049701690674\n",
      "Ranking: 5, Movie Name: Strictly Sexual (2008), Predicted Rating: 7.037020206451416\n",
      "Ranking: 6, Movie Name: Babes in Toyland (1934), Predicted Rating: 6.921009540557861\n",
      "Ranking: 7, Movie Name: Bachelor Party (1984), Predicted Rating: 6.892201900482178\n",
      "Ranking: 8, Movie Name: Taxi 2 (2000), Predicted Rating: 6.8404741287231445\n",
      "Ranking: 9, Movie Name: The Night Before (2015), Predicted Rating: 6.819227695465088\n",
      "Ranking: 10, Movie Name: Taken 3 (2015), Predicted Rating: 6.642531871795654\n"
     ]
    }
   ],
   "source": [
    "new_user_recs(122291, user_ratings_1, movie_ratings, movie_titles, 10)"
   ]
  },
  {
   "cell_type": "markdown",
   "metadata": {},
   "source": [
    "So here we have it! Our recommendation system is generating recommendations for the top 10 movies. \n",
    "\n",
    "\n",
    "\n",
    "\n",
    "## Level up (Optional)\n",
    "\n",
    "\n",
    "* Create a user interface to allow users to easily choose items and get recommendations \n",
    "\n",
    "* Use IMDB links to scrape user reviews from IMDB and using basic NLP techniques, create extra embeddings for ALS model  \n",
    "\n",
    "* Create a hybrid recommender system using features like genre \n",
    "\n",
    "## Summary\n",
    "\n",
    "In this lab, you built a model using Spark, performed some parameter selection, and updated the model every time new user preferences came in. You looked at how Spark's ALS implementation can be used to build a scalable and efficient recommendation system. You also saw that such systems can become computationally expensive and using them with an online system could be a problem with traditional computational platforms. Spark's distributed computing architecture provides a great solution to deploy such recommendation systems for real-world applications (think Amazon, Spotify)."
   ]
  }
 ],
 "metadata": {
  "kernelspec": {
   "display_name": "Python 3",
   "language": "python",
   "name": "python3"
  },
  "language_info": {
   "codemirror_mode": {
    "name": "ipython",
    "version": 3
   },
   "file_extension": ".py",
   "mimetype": "text/x-python",
   "name": "python",
   "nbconvert_exporter": "python",
   "pygments_lexer": "ipython3",
   "version": "3.7.6"
  }
 },
 "nbformat": 4,
 "nbformat_minor": 2
}
